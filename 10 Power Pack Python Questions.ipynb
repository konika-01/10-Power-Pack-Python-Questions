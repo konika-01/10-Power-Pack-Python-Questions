{
 "cells": [
  {
   "cell_type": "markdown",
   "id": "f876173b-63bf-4bfd-ba07-ca14ff9b6108",
   "metadata": {},
   "source": [
    "Q1) Given the dictionary with keys as student names and values as a list of marks for 4\n",
    "subjects for 4 different students.\n",
    "        \n",
    "a) Create a function to find the average marks of the students where the above\n",
    "dictionary is used as an argument. Return the student name and their average\n",
    "marks as a dictionary.\n",
    "    \n",
    "Sample Input:\n",
    "{'Ankit':[78,83,76,82],'Shantanu':[56,70,65,83],'Rishabh':[91,74,86,80],'Arun':[83,\n",
    "87,71,75]}\n",
    "    \n",
    "Expected Output:\n",
    "    \n",
    "Original Average: {'Ankit': 79.75, 'Shantanu': 68.5, 'Rishabh': 82.75, 'Arun': 79.0}\n",
    "    \n",
    "b) All of students applied for rechecking and received the updated marks as\n",
    "{'Ankit':[0,86,0,77],'Shantanu':[0,0,0,0],'Rishabh':[79,0,0,84],'Arun':[0,0,0,81]}\n",
    "                          \n",
    "where 0 indicates no update and a number indicates the updated marks. Return\n",
    "the updated average using the same function. The function should accept original\n",
    "and updated marks dictionary as arguments.\n",
    "    \n",
    "Expected Output:\n",
    "Updated Average:{'Ankit': 79.25, 'Shantanu': 68.5, 'Rishabh': 80.75, 'Arun': 80.5}"
   ]
  },
  {
   "cell_type": "code",
   "execution_count": 77,
   "id": "ebdf05c1-467c-419a-9ef5-6eb84061d7d4",
   "metadata": {},
   "outputs": [
    {
     "name": "stdout",
     "output_type": "stream",
     "text": [
      "{'Ankit': 79.75, 'Shantanu': 68.5, 'Rishabh': 82.75, 'Arun': 79.0}\n"
     ]
    }
   ],
   "source": [
    "#a\n",
    "input1 = {'Ankit':[78,83,76,82],'Shantanu':[56,70,65,83],'Rishabh':[91,74,86,80],'Arun':[83,87,71,75]}\n",
    "output = {}\n",
    "for k,v in input1.items():\n",
    "    if k not in output.keys():\n",
    "        output[k] = sum(v)/len(v)\n",
    "print(output)"
   ]
  },
  {
   "cell_type": "code",
   "execution_count": 86,
   "id": "e0c470b1-c5d2-4438-9d60-bbceefe0d931",
   "metadata": {},
   "outputs": [
    {
     "name": "stdout",
     "output_type": "stream",
     "text": [
      "{'Ankit': 79.25, 'Shantanu': 68.5, 'Rishabh': 80.75, 'Arun': 80.5}\n"
     ]
    }
   ],
   "source": [
    "#b\n",
    "updated_marks = {'Ankit':[0,86,0,77],'Shantanu':[0,0,0,0],'Rishabh':[79,0,0,84],'Arun':[0,0,0,81]}\n",
    "for student in updated_marks:\n",
    "    for i in range(4):\n",
    "        if updated_marks[student][i] ==0:\n",
    "            updated_marks[student][i] = input1[student][i]\n",
    "\n",
    "\n",
    "updated_output = {}\n",
    "for k,v in updated_marks.items():\n",
    "    if k not in updated_output.keys():\n",
    "        updated_output[k] = sum(v)/len(v)\n",
    "print(updated_output)"
   ]
  },
  {
   "cell_type": "markdown",
   "id": "b1693297-c54b-4729-b8e7-a0e6e243f961",
   "metadata": {},
   "source": [
    "Q2) Write a function to find the sum of digits till only 1 digit remains. Take the number as an\n",
    "argument.\n",
    "Sample Input:\n",
    "59304\n",
    "Sample Output:\n",
    "3\n",
    "Explanation:\n",
    "5+9+3+0+4 = 21 => 2+1 = 3"
   ]
  },
  {
   "cell_type": "code",
   "execution_count": 63,
   "id": "1838ee7b-9651-467d-af6d-6016c727263b",
   "metadata": {},
   "outputs": [
    {
     "name": "stdin",
     "output_type": "stream",
     "text": [
      " 59304\n"
     ]
    }
   ],
   "source": [
    "num = input()"
   ]
  },
  {
   "cell_type": "code",
   "execution_count": 72,
   "id": "8ab30a0d-db37-499a-8fc6-1c166c4be79c",
   "metadata": {},
   "outputs": [
    {
     "name": "stdin",
     "output_type": "stream",
     "text": [
      " 59304\n"
     ]
    },
    {
     "name": "stdout",
     "output_type": "stream",
     "text": [
      "3\n"
     ]
    }
   ],
   "source": [
    "num = int(input())\n",
    "while num>10:\n",
    "    temp = 0 \n",
    "    while num > 0:\n",
    "        rem = num%10\n",
    "        temp+=rem\n",
    "        num//=10\n",
    "    num = temp\n",
    "print(num)\n"
   ]
  },
  {
   "cell_type": "markdown",
   "id": "c898a9ea-a028-427b-b102-d89cf5518eb5",
   "metadata": {},
   "source": [
    "Q3) An elevator at max can carry a weight of x kgs. N persons enter the elevator(their\n",
    "weights are entered in a list). Print Yes or No for each test case if the elevator can operate.\n",
    "(Elevator can operate, if the sum of weights of a person is less than or equal to x. Solve the\n",
    "questions for T test cases.\n",
    "Input: First line is T, representing the number of test cases. The first line of each test case\n",
    "contains x and N. The next line contains a list of body weights of N persons. Print Yes is\n",
    "elevator can operator, otherwise No.\n",
    "Sample Input:\n",
    "2\n",
    "450 7\n",
    "65 94 87 70 82 76 81\n",
    "350 5\n",
    "56 52 84 50 98\n",
    "Sample Output\n",
    "No\n",
    "Yes"
   ]
  },
  {
   "cell_type": "code",
   "execution_count": 31,
   "id": "934963b9-142c-4e49-8d08-cb83944eb342",
   "metadata": {},
   "outputs": [
    {
     "name": "stdin",
     "output_type": "stream",
     "text": [
      " 2\n",
      " 450 7\n",
      "0 65\n",
      "1 94\n",
      "2 87\n",
      "3 70\n",
      "4 82\n",
      "5 76\n",
      "6 81\n"
     ]
    },
    {
     "name": "stdout",
     "output_type": "stream",
     "text": [
      "no\n"
     ]
    },
    {
     "name": "stdin",
     "output_type": "stream",
     "text": [
      " 350 5\n",
      "0 56\n",
      "1 52\n",
      "2 84\n",
      "3 50\n",
      "4 98\n"
     ]
    },
    {
     "name": "stdout",
     "output_type": "stream",
     "text": [
      "yes\n"
     ]
    }
   ],
   "source": [
    "test_case = int(input())\n",
    "for i in range(test_case):\n",
    "    x,N = map(int,input().split())\n",
    "    body_weight = []\n",
    "    for k in range(N):\n",
    "        body_weight.append(int(input(k)))\n",
    "    if sum(body_weight)<=x:\n",
    "        print('yes')\n",
    "    else:\n",
    "        print('no')"
   ]
  },
  {
   "cell_type": "markdown",
   "id": "e1ea69d2-3a56-4166-884a-d5e80a234755",
   "metadata": {},
   "source": [
    "Q4) If A-Z is mapped with 1-26 in a dictionary (keys are alphabets, values are numbers from\n",
    "1 to 26 respectively). Filter the dictionary returning the keys and values where the values are\n",
    "prime. Use Dictionary comprehension\n",
    "Expected Output\n",
    "{'B': 2, 'C': 3, 'E': 5, 'G': 7, 'K': 11, 'M': 13, 'Q': 17, 'S': 19, 'W': 23}"
   ]
  },
  {
   "cell_type": "code",
   "execution_count": 1,
   "id": "f9565764-b162-47ac-86be-5665a6aa7551",
   "metadata": {},
   "outputs": [],
   "source": [
    "dict1 = {}\n",
    "list1 = [chr(i) for i in range(65,91)] \n",
    "list2 = [i for i in range(1,28)]\n",
    "dict1 = dict(zip(list1,list2))\n",
    "output = {filter}"
   ]
  },
  {
   "cell_type": "code",
   "execution_count": 15,
   "id": "f3955ead-0044-42bf-8a40-3f4506a44782",
   "metadata": {},
   "outputs": [],
   "source": [
    "output = {}\n",
    "for k,v in dict1.items():\n",
    "    c=0\n",
    "    for i in range(1,v+1):\n",
    "        if v%i == 0:\n",
    "            c+=1\n",
    "    if c==2:\n",
    "        output[k] = v"
   ]
  },
  {
   "cell_type": "code",
   "execution_count": 16,
   "id": "ec9e1598-df94-468e-a2d6-1aa84e621f28",
   "metadata": {},
   "outputs": [
    {
     "data": {
      "text/plain": [
       "{'B': 2, 'C': 3, 'E': 5, 'G': 7, 'K': 11, 'M': 13, 'Q': 17, 'S': 19, 'W': 23}"
      ]
     },
     "execution_count": 16,
     "metadata": {},
     "output_type": "execute_result"
    }
   ],
   "source": [
    "output"
   ]
  },
  {
   "cell_type": "code",
   "execution_count": 19,
   "id": "42d15944-575a-4431-a275-4b8de6bbe265",
   "metadata": {},
   "outputs": [
    {
     "name": "stdout",
     "output_type": "stream",
     "text": [
      "{'B': 2, 'C': 3, 'E': 5, 'G': 7, 'K': 11, 'M': 13, 'Q': 17, 'S': 19, 'W': 23}\n"
     ]
    }
   ],
   "source": [
    "output = {k : v for k,v in dict1.items() if sum(v%i==0 for i in range(1,v+1))==2}\n",
    "print(output)"
   ]
  },
  {
   "cell_type": "markdown",
   "id": "7aee7a02-8724-450b-9f6e-9b3a835bfa4b",
   "metadata": {},
   "source": [
    "Q5) Messi has A goals and B assists this season, whereas Ronaldo has X goals and Y assists.\n",
    "For each goal the player gets 2 points and for each assist, the player gets one point. Find out\n",
    "the player with more points this season.\n",
    "Input format : Accept N the number of test cases. For each of the next N lines Accept a list of\n",
    "integers as A,B,X,. Output Format : Display Messsi or Ronaldo depending on the player with\n",
    "more points. Display Equal if their scores tie.\n",
    "Sample Input\n",
    "3\n",
    "91 22 60 30\n",
    "40 30 50 10\n",
    "60 30 80 20\n",
    "Sample Output\n",
    "Messi\n",
    "Equal\n",
    "Ronaldo\n",
    "Explanation\n",
    "91 22 60 30 => Messi score = 91*2 + 22=204 , Ronaldo Score = 60*2 +30=150. So winner is\n",
    "Messi"
   ]
  },
  {
   "cell_type": "code",
   "execution_count": 5,
   "id": "94e291e7-4674-42e0-8f47-4b57036fcd0e",
   "metadata": {},
   "outputs": [
    {
     "name": "stdin",
     "output_type": "stream",
     "text": [
      "enter the no of test cases:  3\n",
      " 91 22 60 30\n"
     ]
    },
    {
     "name": "stdout",
     "output_type": "stream",
     "text": [
      "Messi Wins\n"
     ]
    },
    {
     "name": "stdin",
     "output_type": "stream",
     "text": [
      " 40 30 50 10\n"
     ]
    },
    {
     "name": "stdout",
     "output_type": "stream",
     "text": [
      "Equal\n"
     ]
    },
    {
     "name": "stdin",
     "output_type": "stream",
     "text": [
      " 60 30 80 20\n"
     ]
    },
    {
     "name": "stdout",
     "output_type": "stream",
     "text": [
      "Ronaldo Wins\n"
     ]
    }
   ],
   "source": [
    "test_case = int(input('enter the no of test cases: '))\n",
    "for i in range(test_case):\n",
    "    A,B,C,D = map(int,input().split())\n",
    "    Messi_Score = A*2 + B \n",
    "    Ronaldo_Score = C*2 + D\n",
    "    if Messi_Score > Ronaldo_Score:\n",
    "        print('Messi Wins')\n",
    "    elif Messi_Score==Ronaldo_Score:\n",
    "        print('Equal')\n",
    "    elif Messi_Score < Ronaldo_Score:\n",
    "        print('Ronaldo Wins')"
   ]
  },
  {
   "cell_type": "code",
   "execution_count": null,
   "id": "8f950449-5715-4f0a-87ef-c0b3c97c29e9",
   "metadata": {},
   "outputs": [],
   "source": [
    "Q6) Accept a list of dates as user input in the format MM-DD-YYYY. Return the list of days\n",
    "sorted in descending order. Solve using list comprehension and then sort it.\n",
    "Sample Input\n",
    "['04-10-2001', '07-25-2010', '12-06-2019', '11-17-2021', '09-21-2018']\n",
    "Sample Output\n",
    "[25,21,17,10,6]"
   ]
  },
  {
   "cell_type": "code",
   "execution_count": 8,
   "id": "f20d9369-4909-44b7-82af-cfc757dc9576",
   "metadata": {},
   "outputs": [
    {
     "name": "stdin",
     "output_type": "stream",
     "text": [
      " 04-10-2001 07-25-2010 12-06-2019 11-17-2021 09-21-2018\n"
     ]
    }
   ],
   "source": [
    "dates = list(map(str,input().split()))"
   ]
  },
  {
   "cell_type": "code",
   "execution_count": 11,
   "id": "4933bee3-d19d-4b40-a65c-ea301000db29",
   "metadata": {},
   "outputs": [
    {
     "name": "stdout",
     "output_type": "stream",
     "text": [
      "[25, 21, 17, 10, 6]\n"
     ]
    }
   ],
   "source": [
    "days = [int(i.split('-')[1]) for i in dates]\n",
    "days = sorted(days,reverse = True)\n",
    "print(days)"
   ]
  },
  {
   "cell_type": "markdown",
   "id": "f653a8c7-1baf-4b82-9104-9cbbb1b71fea",
   "metadata": {},
   "source": [
    "Q7) Given IPL points tables after 10 matches. There are supposed to be 14 matches in total\n",
    "for each team. If a team wins, they get 2 points, if the team loses, they get 0 points and if\n",
    "there is a tie/rain/any sort of disruption they get 1 point each. Match predictions for 11th,\n",
    "12th, 13th and 14th matches are given respectively as described in 3 possible scenarios - L ,\n",
    "W or T, where L is loss, W represents a win, and T represents a tie/disruption.\n",
    "\n",
    "points_after_10_mathces = {'DC':8, 'CSK':11, 'SRH':8, 'GT':14, 'RCB':10, 'KKR':8,\n",
    "'MI':10, 'LSG':11, 'RR':10, 'PK':10}\n",
    "\n",
    "match_pred = {'SRH':'LLLL', 'CSK':'WWLW', 'KKR':'WLWL', 'RCB':'LWWL', 'GT':'WLWW',\n",
    "'RR':'LWLW', 'LSG':'LWWW', 'PK':'LWLL', 'DC':'LLWL', 'MI':'WWLW'}\n",
    "\n",
    "a) Find the score of each team after the 13th match. Return output in the form of a\n",
    "dictionary (key as team name and score as value).\n",
    "\n",
    "b) Find top 4 teams and their scores qualifying for the next round based on final\n",
    "score(score after 14th match). Return output in the form of a dictionary (key as\n",
    "team name and score as value).\n",
    "\n",
    "Expected Output:\n",
    "{'GT': 20, 'CSK': 17, 'LSG': 17, 'MI': 16}"
   ]
  },
  {
   "cell_type": "code",
   "execution_count": 6,
   "id": "b246f230-7b36-4f4c-bf5d-7f6854c81a34",
   "metadata": {},
   "outputs": [],
   "source": [
    "points_after_10_mathces = {'DC':8, 'CSK':11, 'SRH':8, 'GT':14, 'RCB':10, 'KKR':8,'MI':10, 'LSG':11, 'RR':10, 'PK':10}"
   ]
  },
  {
   "cell_type": "code",
   "execution_count": 7,
   "id": "aa671b72-ce06-42c7-add8-54b04e2640c5",
   "metadata": {},
   "outputs": [],
   "source": [
    "match_pred = {'SRH':'LLLL', 'CSK':'WWLW', 'KKR':'WLWL', 'RCB':'LWWL', 'GT':'WLWW','RR':'LWLW', 'LSG':'LWWW', 'PK':'LWLL', 'DC':'LLWL', 'MI':'WWLW'}"
   ]
  },
  {
   "cell_type": "code",
   "execution_count": 9,
   "id": "daf45873-5619-4b2e-b2af-110fbf3ffad1",
   "metadata": {},
   "outputs": [
    {
     "name": "stdout",
     "output_type": "stream",
     "text": [
      "{'DC': 10, 'CSK': 17, 'SRH': 8, 'GT': 20, 'RCB': 14, 'KKR': 12, 'MI': 16, 'LSG': 17, 'RR': 14, 'PK': 12}\n"
     ]
    }
   ],
   "source": [
    "points_after_13_mathces ={}\n",
    "for i in points_after_10_mathces:\n",
    "    for j in match_pred:\n",
    "        if i==j:\n",
    "            total = points_after_10_mathces[i]\n",
    "            v=1\n",
    "            while v<4:\n",
    "                for k in match_pred[i]:\n",
    "                    if k=='W':\n",
    "                        total += 2\n",
    "                    elif k == 'L':\n",
    "                        total += 0\n",
    "                    elif k == 'T':\n",
    "                        total += 1\n",
    "                    v+=1\n",
    "            points_after_13_mathces[i] = total\n",
    "print(points_after_13_mathces)"
   ]
  },
  {
   "cell_type": "code",
   "execution_count": null,
   "id": "eeb4cee2-dcd5-490e-a18d-e4d3cea445d4",
   "metadata": {},
   "outputs": [],
   "source": [
    "Q8) A man has been selling the fruit for X rupees. He earns some profit of Y rupees on selling\n",
    "the fruit currently. He decided to increase the selling price by 10%. Help him calculate his\n",
    "new profit after the increase in selling price.\n",
    "Input Format : The first line of input will contain a single integer T, denoting the number of\n",
    "test cases. Each test case consists of a single line of input containing two space-separated\n",
    "integers X and Y denoting the initial selling price and the profit respectively.\n",
    "Sample Input:\n",
    "4\n",
    "100 # inital selling price 10 # profit\n",
    "200 5\n",
    "500 10\n",
    "100 7\n",
    "    \n",
    "Sample Output\n",
    "20\n",
    "25\n",
    "60\n",
    "17\n",
    "Explanation :\n",
    "100 10 => The buying price of the item is the difference of selling price and profit, which is\n",
    "90. The new selling price is 10% more than the initial selling price. Thus, the new profit is\n",
    "110−90=20\n",
    "\n",
    "orig_selling price = 100\n",
    "profit = 10 rs\n",
    "cost _price = OGS - profit = 100-10 \n",
    "new_selling price = 100 + 10% of 100 = 110\n",
    "new_profit = NSP - Cp = 110 - 90 = 20\n"
   ]
  },
  {
   "cell_type": "code",
   "execution_count": 447,
   "id": "0b750c65-dbdc-498f-b6d5-e23e7386591c",
   "metadata": {},
   "outputs": [
    {
     "name": "stdin",
     "output_type": "stream",
     "text": [
      "enter the no of test cases:  4\n",
      " 100,10\n"
     ]
    },
    {
     "name": "stdout",
     "output_type": "stream",
     "text": [
      "profit 20.0\n"
     ]
    },
    {
     "name": "stdin",
     "output_type": "stream",
     "text": [
      " 200,5\n"
     ]
    },
    {
     "name": "stdout",
     "output_type": "stream",
     "text": [
      "profit 25.0\n"
     ]
    },
    {
     "name": "stdin",
     "output_type": "stream",
     "text": [
      " 500,10\n"
     ]
    },
    {
     "name": "stdout",
     "output_type": "stream",
     "text": [
      "profit 60.0\n"
     ]
    },
    {
     "name": "stdin",
     "output_type": "stream",
     "text": [
      " 100,7\n"
     ]
    },
    {
     "name": "stdout",
     "output_type": "stream",
     "text": [
      "profit 17.0\n"
     ]
    }
   ],
   "source": [
    "test_case = int(input('enter the no of test cases: '))\n",
    "output = []\n",
    "for i in range(test_case):\n",
    "    inital_SP, profit = map(int,input('').split(','))\n",
    "    cost = inital_SP - profit\n",
    "    new_selling_price = inital_SP + 0.10 * inital_SP\n",
    "    new_profit = new_selling_price - cost\n",
    "    print(f'profit { new_profit }')\n"
   ]
  },
  {
   "cell_type": "markdown",
   "id": "918b46c6-3c78-4d96-80a4-e7c9acfc87b2",
   "metadata": {},
   "source": [
    "Q9) Accept a list of words as user input.\n",
    "Return a dictionary containing the words from the above list as key and the value will be\n",
    "the count of each character in the form of a key : value pair, where the key is character\n",
    "and its count is its frequency in the word. Accept all words in lowercase.\n",
    "a) Sample Input:\n",
    "['welcome','school','queue','thirteen','freedom','amplification']\n",
    "Sample Output\n",
    "{'welcome': {'w': 1, 'e': 2, 'l': 1, 'c': 1, 'o': 1, 'm': 1}, 'school': {'s': 1, 'c': 1, 'h': 1, 'o': 2, 'l': 1},\n",
    "'queue': {'q': 1, 'u': 2, 'e': 2}, 'thirteen': {'t': 2, 'h': 1, 'i': 1, 'r': 1, 'e': 2, 'n': 1}, 'freedom': {'f':\n",
    "1, 'r': 1, 'e': 2, 'd': 1, 'o': 1, 'm': 1}, 'amplification': {'a': 2, 'm': 1, 'p': 1, 'l': 1, 'i': 3, 'f': 1, 'c':\n",
    "1, 't': 1, 'o': 1, 'n': 1}}\n",
    "b) Return all the words where the total vowel count in the word is even in the form of a list\n",
    "of tuples. (word, sum of vowel_count)\n",
    "Sample Output\n",
    "[('school', 2), ('queue', 4), ('amplification', 6)]"
   ]
  },
  {
   "cell_type": "code",
   "execution_count": 420,
   "id": "6fcbb9ef-d1ea-4d6e-8d46-091708fec650",
   "metadata": {},
   "outputs": [
    {
     "name": "stdin",
     "output_type": "stream",
     "text": [
      " welcome,school,queue,thirteen,freedom,amplification\n"
     ]
    }
   ],
   "source": [
    "list_words = list(map(str,input().lower().split(',')))"
   ]
  },
  {
   "cell_type": "code",
   "execution_count": 431,
   "id": "af716a13-6311-46dd-b86a-35439edd9613",
   "metadata": {},
   "outputs": [
    {
     "name": "stdout",
     "output_type": "stream",
     "text": [
      "{'welcome': {'w': 1, 'e': 2, 'l': 1, 'c': 1, 'o': 1, 'm': 1}, 'school': {'s': 1, 'c': 1, 'h': 1, 'o': 2, 'l': 1}, 'queue': {'q': 1, 'u': 2, 'e': 2}, 'thirteen': {'t': 2, 'h': 1, 'i': 1, 'r': 1, 'e': 2, 'n': 1}, 'freedom': {'f': 1, 'r': 1, 'e': 2, 'd': 1, 'o': 1, 'm': 1}, 'amplification': {'a': 2, 'm': 1, 'p': 1, 'l': 1, 'i': 3, 'f': 1, 'c': 1, 't': 1, 'o': 1, 'n': 1}}\n"
     ]
    }
   ],
   "source": [
    "for word in list_words:\n",
    "    freq = {}\n",
    "    for letter in word:\n",
    "        freq[letter] = freq.get(letter, 0) + 1\n",
    "    result[word] = freq\n",
    "\n",
    "print(result)"
   ]
  },
  {
   "cell_type": "markdown",
   "id": "cc9e68a8-9bb3-4d42-b4ce-fa6fe7de289e",
   "metadata": {},
   "source": [
    "Q10) Accept a list of integers as user input.\n",
    "Find all consecutive pairs of even numbers. Output should be a list of tuples. Solve using lambda,\n",
    "map and/or filter.\n",
    "Sample Input :\n",
    "[4, 6, 8, 7, 9, 0, 1, 25, 22, 18]\n",
    "Expected Output:\n",
    "[(4, 6), (6, 8), (22, 18)]"
   ]
  },
  {
   "cell_type": "code",
   "execution_count": 404,
   "id": "13e31a3a-fbf0-4085-bc22-024c6e0574c9",
   "metadata": {},
   "outputs": [
    {
     "name": "stdin",
     "output_type": "stream",
     "text": [
      " 4 6 8 7 9 0 1 25 22 18\n"
     ]
    }
   ],
   "source": [
    "#sol\n",
    "int_list = list(map(int,input().split()))"
   ]
  },
  {
   "cell_type": "code",
   "execution_count": 405,
   "id": "6fcdad7d-0d8e-4b7c-9656-e2bc9ab3baa3",
   "metadata": {},
   "outputs": [
    {
     "name": "stdout",
     "output_type": "stream",
     "text": [
      "[(4, 6), (6, 8), (22, 18)]\n"
     ]
    }
   ],
   "source": [
    "even_list = []\n",
    "for i,j in zip(int_list,int_list[1:]):\n",
    "    if i%2==0 and j%2==0:\n",
    "        even_list.append((i,j))\n",
    "print(even_list)"
   ]
  },
  {
   "cell_type": "code",
   "execution_count": 410,
   "id": "3248a095-3e4b-4b9d-b1ef-bb089e33f13e",
   "metadata": {},
   "outputs": [
    {
     "name": "stdout",
     "output_type": "stream",
     "text": [
      "[(4, 6), (6, 8), (22, 18)]\n"
     ]
    }
   ],
   "source": [
    "even_list = list(filter(lambda x : x[0]%2==0 and x[1]%2==0, zip(int_list,int_list[1:])))\n",
    "print(even_list)"
   ]
  },
  {
   "cell_type": "code",
   "execution_count": null,
   "id": "31e4e311-ee4c-4bd2-aed5-1dee7c2f369a",
   "metadata": {},
   "outputs": [],
   "source": []
  },
  {
   "cell_type": "code",
   "execution_count": null,
   "id": "86da6934-e377-463c-98b0-e7c61411bd68",
   "metadata": {},
   "outputs": [],
   "source": []
  }
 ],
 "metadata": {
  "kernelspec": {
   "display_name": "Python 3 (ipykernel)",
   "language": "python",
   "name": "python3"
  },
  "language_info": {
   "codemirror_mode": {
    "name": "ipython",
    "version": 3
   },
   "file_extension": ".py",
   "mimetype": "text/x-python",
   "name": "python",
   "nbconvert_exporter": "python",
   "pygments_lexer": "ipython3",
   "version": "3.12.7"
  }
 },
 "nbformat": 4,
 "nbformat_minor": 5
}
